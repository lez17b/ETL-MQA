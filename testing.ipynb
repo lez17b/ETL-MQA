{
 "cells": [
  {
   "cell_type": "code",
   "execution_count": 6,
   "outputs": [],
   "source": [
    "from ETLcsv import ExtractTransformLoad"
   ],
   "metadata": {
    "collapsed": false,
    "pycharm": {
     "name": "#%%\n"
    }
   }
  },
  {
   "cell_type": "code",
   "execution_count": 7,
   "outputs": [],
   "source": [
    "data_frame = ExtractTransformLoad(data='file.csv')"
   ],
   "metadata": {
    "collapsed": false,
    "pycharm": {
     "name": "#%%\n"
    }
   }
  },
  {
   "cell_type": "code",
   "execution_count": 8,
   "outputs": [
    {
     "name": "stdout",
     "output_type": "stream",
     "text": [
      "      a                                                  b  \\\n",
      "0     1   Eldon Base for stackable storage shelf, platinum   \n",
      "1     2  1.7 Cubic Foot Compact \"Cube\" Office Refrigera...   \n",
      "2     3  Cardinal Slant-Dï¿½ Ring Binder, Heavy Gauge V...   \n",
      "3     4                                               R380   \n",
      "4     5                           Holmes HEPA Air Purifier   \n",
      "..  ...                                                ...   \n",
      "95   96            Lindenï¿½ 12\" Wall Clock With Oak Frame   \n",
      "96   97                                         Newell 326   \n",
      "97   98                       Prismacolor Color Pencil Set   \n",
      "98   99                         Xerox Blank Computer Paper   \n",
      "99  100                                    600 Series Flip   \n",
      "\n",
      "                     c      d        e       f      g                      h  \\\n",
      "0   Muhammed MacIntyre      3  -213.25   38.94  35.00                Nunavut   \n",
      "1         Barry French    293   457.81  208.16  68.02                Nunavut   \n",
      "2         Barry French    293    46.71    8.69   2.99                Nunavut   \n",
      "3        Clay Rozendal    483  1198.97  195.99   3.99                Nunavut   \n",
      "4       Carlos Soltero    515    30.94   21.78   5.94                Nunavut   \n",
      "..                 ...    ...      ...     ...    ...                    ...   \n",
      "95       Doug Bickford  10535   -44.14   33.98  19.99  Northwest Territories   \n",
      "96       Doug Bickford  10535    -0.79    1.76   0.70  Northwest Territories   \n",
      "97        Jamie Kunitz  10789    76.42   19.84   4.10  Northwest Territories   \n",
      "98     Anthony Johnson  10791    93.36   19.98   5.77  Northwest Territories   \n",
      "99        Ralph Knight  10945     4.22   95.99   8.99  Northwest Territories   \n",
      "\n",
      "                                 i    o;  \n",
      "0           Storage & Organization  0.80  \n",
      "1                       Appliances  0.58  \n",
      "2   Binders and Binder Accessories  0.39  \n",
      "3     Telephones and Communication  0.58  \n",
      "4                       Appliances  0.50  \n",
      "..                             ...   ...  \n",
      "95              Office Furnishings  0.55  \n",
      "96             Pens & Art Supplies  0.56  \n",
      "97             Pens & Art Supplies  0.44  \n",
      "98                           Paper  0.38  \n",
      "99    Telephones and Communication  0.57  \n",
      "\n",
      "[100 rows x 10 columns]\n"
     ]
    }
   ],
   "source": [
    "data_frame.print_df()"
   ],
   "metadata": {
    "collapsed": false,
    "pycharm": {
     "name": "#%%\n"
    }
   }
  },
  {
   "cell_type": "code",
   "execution_count": 10,
   "outputs": [],
   "source": [
    "data_frame.null_handler(field='h')"
   ],
   "metadata": {
    "collapsed": false,
    "pycharm": {
     "name": "#%%\n"
    }
   }
  }
 ],
 "metadata": {
  "kernelspec": {
   "name": "pycharm-209911e2",
   "language": "python",
   "display_name": "PyCharm (MNIST_ML)"
  },
  "language_info": {
   "codemirror_mode": {
    "name": "ipython",
    "version": 2
   },
   "file_extension": ".py",
   "mimetype": "text/x-python",
   "name": "python",
   "nbconvert_exporter": "python",
   "pygments_lexer": "ipython2",
   "version": "2.7.6"
  }
 },
 "nbformat": 4,
 "nbformat_minor": 0
}